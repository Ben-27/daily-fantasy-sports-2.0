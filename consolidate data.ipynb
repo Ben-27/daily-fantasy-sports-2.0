{
 "cells": [
  {
   "cell_type": "code",
   "execution_count": 9,
   "id": "e16c17fb",
   "metadata": {},
   "outputs": [],
   "source": [
    "import pandas as pd\n",
    "import os"
   ]
  },
  {
   "cell_type": "code",
   "execution_count": 8,
   "id": "02081158",
   "metadata": {},
   "outputs": [],
   "source": [
    "positions = ['qb', 'rb', 'wr', 'te', 'dst']\n",
    "\n",
    "stats = [pd.read_excel('data/stats/raw/2024 weekly stats.xlsx', sheet_name=pos) for pos in positions]\n",
    "projs = [pd.read_excel('data/projections/raw/2024 weekly projections.xlsx', sheet_name=pos) for pos in positions]"
   ]
  },
  {
   "cell_type": "code",
   "execution_count": 4,
   "id": "c78fc066",
   "metadata": {},
   "outputs": [],
   "source": [
    "def concat_columns(dfs):\n",
    "    \"\"\"\n",
    "    Concatenate all columns names in all dataframes into a list of distinct columns.\n",
    "\n",
    "    Args:\n",
    "        - dfs: list of dataframes\n",
    "\n",
    "    Returns:\n",
    "        - list[str]: list of distinct column names\n",
    "    \"\"\"\n",
    "    cols = ['RK', 'NAME', 'TEAM', 'POS', 'WK', 'OPP', 'FPTS']\n",
    "    for df in dfs:\n",
    "        for c in df.columns:\n",
    "            if c not in cols:\n",
    "                cols.append(c)\n",
    "    return cols"
   ]
  },
  {
   "cell_type": "code",
   "execution_count": 12,
   "id": "2f9f4105",
   "metadata": {},
   "outputs": [
    {
     "name": "stdout",
     "output_type": "stream",
     "text": [
      "Saving file 2015 weekly stats.xlsx...\n",
      "Saving file 2016 weekly stats.xlsx...\n",
      "Saving file 2017 weekly stats.xlsx...\n",
      "Saving file 2018 weekly stats.xlsx...\n",
      "Saving file 2019 weekly stats.xlsx...\n",
      "Saving file 2020 weekly stats.xlsx...\n",
      "Saving file 2021 weekly stats.xlsx...\n",
      "Saving file 2022 weekly stats.xlsx...\n",
      "Saving file 2023 weekly stats.xlsx...\n",
      "Saving file 2024 weekly stats.xlsx...\n"
     ]
    }
   ],
   "source": [
    "stat_cols = concat_columns(stats)\n",
    "\n",
    "for file in os.listdir('data/stats/raw/'):\n",
    "    temp = [pd.read_excel('data/stats/raw/' + file, sheet_name=pos) for pos in positions]\n",
    "    # consolidate into one table\n",
    "    temp_con = pd.concat(temp, ignore_index=True, sort=False)\n",
    "    # reorder columns\n",
    "    temp_con = temp_con[stat_cols]\n",
    "    temp_con.to_excel('data/stats/consolidated/' + file, index=False)\n",
    "    print(f'Saving file {file}...')\n"
   ]
  },
  {
   "cell_type": "code",
   "execution_count": 22,
   "id": "1fbba370",
   "metadata": {},
   "outputs": [
    {
     "name": "stdout",
     "output_type": "stream",
     "text": [
      "Saving file 2015 weekly projections.xlsx...\n",
      "Saving file 2016 weekly projections.xlsx...\n",
      "Saving file 2017 weekly projections.xlsx...\n",
      "Saving file 2018 weekly projections.xlsx...\n",
      "Saving file 2019 weekly projections.xlsx...\n",
      "Saving file 2020 weekly projections.xlsx...\n",
      "Saving file 2021 weekly projections.xlsx...\n",
      "Saving file 2022 weekly projections.xlsx...\n",
      "Saving file 2023 weekly projections.xlsx...\n",
      "Saving file 2024 weekly projections.xlsx...\n"
     ]
    }
   ],
   "source": [
    "proj_cols = concat_columns(projs)\n",
    "\n",
    "for file in os.listdir('data/projections/raw/'):\n",
    "    year = int(file[:4])\n",
    "    if year < 2023:\n",
    "        positions = ['qb', 'rb', 'wr', 'te']\n",
    "    else:\n",
    "        positions = ['qb', 'rb', 'wr', 'te', 'dst']\n",
    "    temp = [pd.read_excel('data/projections/raw/' + file, sheet_name=pos) for pos in positions]\n",
    "    # consolidate into one table\n",
    "    temp_con = pd.concat(temp, ignore_index=True, sort=False)\n",
    "    # add empty dst columns for older years\n",
    "    if year < 2023:\n",
    "        dummy = pd.DataFrame(columns=['LOSS', 'SCK', 'QB HITS', 'INT', 'FR', 'SFTY', 'DEF TD', 'RET TD', 'OPP PTS'])\n",
    "        temp_con = pd.concat([temp_con, dummy], ignore_index=True, sort=False)\n",
    "    # reorder columns\n",
    "    temp_con = temp_con[proj_cols]\n",
    "    temp_con.to_excel('data/projections/consolidated/' + file, index=False)\n",
    "    print(f'Saving file {file}...')"
   ]
  },
  {
   "cell_type": "code",
   "execution_count": null,
   "id": "6669f510",
   "metadata": {},
   "outputs": [],
   "source": []
  }
 ],
 "metadata": {
  "kernelspec": {
   "display_name": "base",
   "language": "python",
   "name": "python3"
  },
  "language_info": {
   "codemirror_mode": {
    "name": "ipython",
    "version": 3
   },
   "file_extension": ".py",
   "mimetype": "text/x-python",
   "name": "python",
   "nbconvert_exporter": "python",
   "pygments_lexer": "ipython3",
   "version": "3.11.4"
  }
 },
 "nbformat": 4,
 "nbformat_minor": 5
}
