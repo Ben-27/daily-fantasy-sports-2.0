{
 "cells": [
  {
   "cell_type": "code",
   "execution_count": 1,
   "id": "2bb53e5b",
   "metadata": {},
   "outputs": [],
   "source": [
    "import pandas as pd\n",
    "\n",
    "import utils\n",
    "\n",
    "%load_ext autoreload\n",
    "%autoreload 2"
   ]
  },
  {
   "cell_type": "code",
   "execution_count": 2,
   "id": "d18db9e2",
   "metadata": {},
   "outputs": [
    {
     "name": "stdout",
     "output_type": "stream",
     "text": [
      "Successful\n"
     ]
    }
   ],
   "source": [
    "s = utils.initiate_session()"
   ]
  },
  {
   "cell_type": "markdown",
   "id": "afe1101a",
   "metadata": {},
   "source": [
    "### Weekly Stats"
   ]
  },
  {
   "cell_type": "code",
   "execution_count": 14,
   "id": "7ee23041",
   "metadata": {},
   "outputs": [
    {
     "name": "stdout",
     "output_type": "stream",
     "text": [
      "\n",
      "Working on year 2015\n",
      "Grabbing data for QBs...\n",
      "   Complete!\n",
      "Grabbing data for RBs...\n",
      "   Complete!\n",
      "Grabbing data for WRs...\n",
      "   Complete!\n",
      "Grabbing data for TEs...\n",
      "   Complete!\n",
      "Grabbing data for DSTs...\n"
     ]
    },
    {
     "name": "stderr",
     "output_type": "stream",
     "text": [
      "c:\\Users\\benja\\Documents\\DFS 2.0\\utils.py:91: FutureWarning: The behavior of DataFrame concatenation with empty or all-NA entries is deprecated. In a future version, this will no longer exclude empty or all-NA columns when determining the result dtypes. To retain the old behavior, exclude the relevant entries before the concat operation.\n",
      "  \n"
     ]
    },
    {
     "name": "stdout",
     "output_type": "stream",
     "text": [
      "\n",
      "Working on year 2016\n",
      "Grabbing data for QBs...\n",
      "   Complete!\n",
      "Grabbing data for RBs...\n",
      "   Complete!\n",
      "Grabbing data for WRs...\n",
      "   Complete!\n",
      "Grabbing data for TEs...\n",
      "   Complete!\n",
      "Grabbing data for DSTs...\n"
     ]
    },
    {
     "name": "stderr",
     "output_type": "stream",
     "text": [
      "c:\\Users\\benja\\Documents\\DFS 2.0\\utils.py:91: FutureWarning: The behavior of DataFrame concatenation with empty or all-NA entries is deprecated. In a future version, this will no longer exclude empty or all-NA columns when determining the result dtypes. To retain the old behavior, exclude the relevant entries before the concat operation.\n",
      "  \n"
     ]
    },
    {
     "name": "stdout",
     "output_type": "stream",
     "text": [
      "\n",
      "Working on year 2017\n",
      "Grabbing data for QBs...\n",
      "   Complete!\n",
      "Grabbing data for RBs...\n",
      "   Complete!\n",
      "Grabbing data for WRs...\n",
      "   Complete!\n",
      "Grabbing data for TEs...\n",
      "   Complete!\n",
      "Grabbing data for DSTs...\n"
     ]
    },
    {
     "name": "stderr",
     "output_type": "stream",
     "text": [
      "c:\\Users\\benja\\Documents\\DFS 2.0\\utils.py:91: FutureWarning: The behavior of DataFrame concatenation with empty or all-NA entries is deprecated. In a future version, this will no longer exclude empty or all-NA columns when determining the result dtypes. To retain the old behavior, exclude the relevant entries before the concat operation.\n",
      "  \n"
     ]
    },
    {
     "name": "stdout",
     "output_type": "stream",
     "text": [
      "\n",
      "Working on year 2018\n",
      "Grabbing data for QBs...\n",
      "   Complete!\n",
      "Grabbing data for RBs...\n",
      "   Complete!\n",
      "Grabbing data for WRs...\n",
      "   Complete!\n",
      "Grabbing data for TEs...\n",
      "   Complete!\n",
      "Grabbing data for DSTs...\n"
     ]
    },
    {
     "name": "stderr",
     "output_type": "stream",
     "text": [
      "c:\\Users\\benja\\Documents\\DFS 2.0\\utils.py:91: FutureWarning: The behavior of DataFrame concatenation with empty or all-NA entries is deprecated. In a future version, this will no longer exclude empty or all-NA columns when determining the result dtypes. To retain the old behavior, exclude the relevant entries before the concat operation.\n",
      "  \n"
     ]
    },
    {
     "name": "stdout",
     "output_type": "stream",
     "text": [
      "\n",
      "Working on year 2019\n",
      "Grabbing data for QBs...\n",
      "   Complete!\n",
      "Grabbing data for RBs...\n",
      "   Complete!\n",
      "Grabbing data for WRs...\n",
      "   Complete!\n",
      "Grabbing data for TEs...\n",
      "   Complete!\n",
      "Grabbing data for DSTs...\n"
     ]
    },
    {
     "name": "stderr",
     "output_type": "stream",
     "text": [
      "c:\\Users\\benja\\Documents\\DFS 2.0\\utils.py:91: FutureWarning: The behavior of DataFrame concatenation with empty or all-NA entries is deprecated. In a future version, this will no longer exclude empty or all-NA columns when determining the result dtypes. To retain the old behavior, exclude the relevant entries before the concat operation.\n",
      "  \n"
     ]
    },
    {
     "name": "stdout",
     "output_type": "stream",
     "text": [
      "\n",
      "Working on year 2020\n",
      "Grabbing data for QBs...\n",
      "   Complete!\n",
      "Grabbing data for RBs...\n",
      "   Complete!\n",
      "Grabbing data for WRs...\n",
      "   Complete!\n",
      "Grabbing data for TEs...\n",
      "   Complete!\n",
      "Grabbing data for DSTs...\n"
     ]
    },
    {
     "name": "stderr",
     "output_type": "stream",
     "text": [
      "c:\\Users\\benja\\Documents\\DFS 2.0\\utils.py:91: FutureWarning: The behavior of DataFrame concatenation with empty or all-NA entries is deprecated. In a future version, this will no longer exclude empty or all-NA columns when determining the result dtypes. To retain the old behavior, exclude the relevant entries before the concat operation.\n",
      "  \n"
     ]
    },
    {
     "name": "stdout",
     "output_type": "stream",
     "text": [
      "\n",
      "Working on year 2021\n",
      "Grabbing data for QBs...\n",
      "   Complete!\n",
      "Grabbing data for RBs...\n",
      "   Complete!\n",
      "Grabbing data for WRs...\n",
      "   Complete!\n",
      "Grabbing data for TEs...\n",
      "   Complete!\n",
      "Grabbing data for DSTs...\n",
      "\n",
      "Working on year 2022\n",
      "Grabbing data for QBs...\n",
      "   Complete!\n",
      "Grabbing data for RBs...\n",
      "   Complete!\n",
      "Grabbing data for WRs...\n",
      "   Complete!\n",
      "Grabbing data for TEs...\n",
      "   Complete!\n",
      "Grabbing data for DSTs...\n",
      "\n",
      "Working on year 2023\n",
      "Grabbing data for QBs...\n",
      "   Complete!\n",
      "Grabbing data for RBs...\n",
      "   Complete!\n",
      "Grabbing data for WRs...\n",
      "   Complete!\n",
      "Grabbing data for TEs...\n",
      "   Complete!\n",
      "Grabbing data for DSTs...\n",
      "\n",
      "Working on year 2024\n",
      "Grabbing data for QBs...\n",
      "   Complete!\n",
      "Grabbing data for RBs...\n",
      "   Complete!\n",
      "Grabbing data for WRs...\n",
      "   Complete!\n",
      "Grabbing data for TEs...\n",
      "   Complete!\n",
      "Grabbing data for DSTs...\n"
     ]
    }
   ],
   "source": [
    "# load full year of stats\n",
    "for year in range(2015, 2025):\n",
    "    print('\\nWorking on year', year)\n",
    "    data = utils.get_stats_data(s, year, 1, 18)\n",
    "    \n",
    "    file_name = f'data/stats/{year} weekly stats.xlsx'\n",
    "    with pd.ExcelWriter(file_name, engine='openpyxl') as writer:\n",
    "        for k in data.keys():\n",
    "            data[k].to_excel(writer, sheet_name=k, index=False)"
   ]
  },
  {
   "cell_type": "markdown",
   "id": "93bf846e",
   "metadata": {},
   "source": [
    "### Weekly Projections"
   ]
  },
  {
   "cell_type": "code",
   "execution_count": 29,
   "id": "980ed7f2",
   "metadata": {},
   "outputs": [
    {
     "name": "stdout",
     "output_type": "stream",
     "text": [
      "\n",
      "Working on year 2015\n",
      "Grabbing data for QBs...\n",
      "   Complete!\n",
      "Grabbing data for RBs...\n",
      "   Complete!\n",
      "Grabbing data for WRs...\n",
      "   Complete!\n",
      "Grabbing data for TEs...\n",
      "   Complete!\n",
      "Grabbing data for DSTs...\n",
      "   Complete!\n",
      "\n",
      "Working on year 2016\n",
      "Grabbing data for QBs...\n",
      "   Complete!\n",
      "Grabbing data for RBs...\n",
      "   Complete!\n",
      "Grabbing data for WRs...\n",
      "   Complete!\n",
      "Grabbing data for TEs...\n",
      "   Complete!\n",
      "Grabbing data for DSTs...\n",
      "   Complete!\n",
      "\n",
      "Working on year 2017\n",
      "Grabbing data for QBs...\n",
      "   Complete!\n",
      "Grabbing data for RBs...\n",
      "   Complete!\n",
      "Grabbing data for WRs...\n",
      "   Complete!\n",
      "Grabbing data for TEs...\n",
      "   Complete!\n",
      "Grabbing data for DSTs...\n",
      "   Complete!\n",
      "\n",
      "Working on year 2018\n",
      "Grabbing data for QBs...\n",
      "   Complete!\n",
      "Grabbing data for RBs...\n",
      "   Complete!\n",
      "Grabbing data for WRs...\n",
      "   Complete!\n",
      "Grabbing data for TEs...\n",
      "   Complete!\n",
      "Grabbing data for DSTs...\n",
      "   Complete!\n",
      "\n",
      "Working on year 2019\n",
      "Grabbing data for QBs...\n",
      "   Complete!\n",
      "Grabbing data for RBs...\n",
      "   Complete!\n",
      "Grabbing data for WRs...\n",
      "   Complete!\n",
      "Grabbing data for TEs...\n",
      "   Complete!\n",
      "Grabbing data for DSTs...\n",
      "   Complete!\n",
      "\n",
      "Working on year 2020\n",
      "Grabbing data for QBs...\n",
      "   Complete!\n",
      "Grabbing data for RBs...\n",
      "   Complete!\n",
      "Grabbing data for WRs...\n",
      "   Complete!\n",
      "Grabbing data for TEs...\n",
      "   Complete!\n",
      "Grabbing data for DSTs...\n",
      "   Complete!\n",
      "\n",
      "Working on year 2021\n",
      "Grabbing data for QBs...\n",
      "   Complete!\n",
      "Grabbing data for RBs...\n",
      "   Complete!\n",
      "Grabbing data for WRs...\n",
      "   Complete!\n",
      "Grabbing data for TEs...\n",
      "   Complete!\n",
      "Grabbing data for DSTs...\n",
      "   Complete!\n",
      "\n",
      "Working on year 2022\n",
      "Grabbing data for QBs...\n",
      "   Complete!\n",
      "Grabbing data for RBs...\n",
      "   Complete!\n",
      "Grabbing data for WRs...\n",
      "   Complete!\n",
      "Grabbing data for TEs...\n",
      "   Complete!\n",
      "Grabbing data for DSTs...\n",
      "   Complete!\n",
      "\n",
      "Working on year 2023\n",
      "Grabbing data for QBs...\n",
      "   Complete!\n",
      "Grabbing data for RBs...\n",
      "   Complete!\n",
      "Grabbing data for WRs...\n",
      "   Complete!\n",
      "Grabbing data for TEs...\n",
      "   Complete!\n",
      "Grabbing data for DSTs...\n",
      "   Complete!\n",
      "\n",
      "Working on year 2024\n",
      "Grabbing data for QBs...\n",
      "   Complete!\n",
      "Grabbing data for RBs...\n",
      "   Complete!\n",
      "Grabbing data for WRs...\n",
      "   Complete!\n",
      "Grabbing data for TEs...\n",
      "   Complete!\n",
      "Grabbing data for DSTs...\n",
      "   Complete!\n"
     ]
    }
   ],
   "source": [
    "# load full year of projections\n",
    "for year in range(2015, 2025):\n",
    "    print('\\nWorking on year', year)\n",
    "    data = utils.get_projection_data(s, year, 1, 18)\n",
    "    \n",
    "    file_name = f'data/projections/{year} weekly projections.xlsx'\n",
    "    with pd.ExcelWriter(file_name, engine='openpyxl') as writer:\n",
    "        for k in data.keys():\n",
    "            data[k].to_excel(writer, sheet_name=k, index=False)"
   ]
  },
  {
   "cell_type": "markdown",
   "id": "30540b1e",
   "metadata": {},
   "source": [
    "### Weekly Salaries"
   ]
  },
  {
   "cell_type": "code",
   "execution_count": 3,
   "id": "58c08a9b",
   "metadata": {},
   "outputs": [
    {
     "name": "stdout",
     "output_type": "stream",
     "text": [
      "\n",
      "Working on year 2015\n",
      "\n",
      "Working on year 2016\n",
      "\n",
      "Working on year 2017\n",
      "\n",
      "Working on year 2018\n",
      "\n",
      "Working on year 2019\n",
      "\n",
      "Working on year 2020\n",
      "\n",
      "Working on year 2021\n",
      "\n",
      "Working on year 2022\n",
      "\n",
      "Working on year 2023\n",
      "\n",
      "Working on year 2024\n"
     ]
    }
   ],
   "source": [
    "# load full year of projections\n",
    "for year in range(2015, 2025):\n",
    "    print('\\nWorking on year', year)\n",
    "    data = utils.get_salary_data(s, year, 1, 18)\n",
    "    \n",
    "    file_name = f'data/salaries/{year} weekly salaries.xlsx'\n",
    "    data.to_excel(file_name, sheet_name='salaries', index=False)"
   ]
  },
  {
   "cell_type": "code",
   "execution_count": 4,
   "id": "7bdcda4f",
   "metadata": {},
   "outputs": [],
   "source": [
    "s.close()"
   ]
  },
  {
   "cell_type": "code",
   "execution_count": null,
   "id": "75ad61ad",
   "metadata": {},
   "outputs": [],
   "source": []
  }
 ],
 "metadata": {
  "kernelspec": {
   "display_name": "base",
   "language": "python",
   "name": "python3"
  },
  "language_info": {
   "codemirror_mode": {
    "name": "ipython",
    "version": 3
   },
   "file_extension": ".py",
   "mimetype": "text/x-python",
   "name": "python",
   "nbconvert_exporter": "python",
   "pygments_lexer": "ipython3",
   "version": "3.11.4"
  }
 },
 "nbformat": 4,
 "nbformat_minor": 5
}
